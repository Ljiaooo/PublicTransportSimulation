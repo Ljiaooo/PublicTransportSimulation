{
 "cells": [
  {
   "cell_type": "code",
   "execution_count": 3,
   "metadata": {},
   "outputs": [],
   "source": [
    "import json\n",
    "\n",
    "with open('1_name2id.json','r',encoding='utf-8') as f:\n",
    "    data=json.load(f)\n",
    "for key in data['up']:\n",
    "    data['up'][key] = int(data['up'][key])\n",
    "for key in data['down']:\n",
    "    data['down'][key] = int(data['down'][key])\n",
    "\n",
    "with open('new.json','w',encoding='utf-8') as f:\n",
    "        json.dump(data,f,indent=2,ensure_ascii=False)\n",
    "\n"
   ]
  },
  {
   "cell_type": "code",
   "execution_count": 8,
   "metadata": {},
   "outputs": [
    {
     "data": {
      "text/plain": [
       "['1_up_23_1']"
      ]
     },
     "execution_count": 8,
     "metadata": {},
     "output_type": "execute_result"
    }
   ],
   "source": [
    "import re\n",
    "\n",
    "a='1_up_23_1'\n",
    "re.findall(r'\\w+',a)"
   ]
  },
  {
   "cell_type": "code",
   "execution_count": 16,
   "metadata": {},
   "outputs": [
    {
     "data": {
      "text/plain": [
       "'bus001_0_01'"
      ]
     },
     "execution_count": 16,
     "metadata": {},
     "output_type": "execute_result"
    }
   ],
   "source": [
    "str(\"bus001_0_01\")"
   ]
  }
 ],
 "metadata": {
  "kernelspec": {
   "display_name": "Python 3",
   "language": "python",
   "name": "python3"
  },
  "language_info": {
   "codemirror_mode": {
    "name": "ipython",
    "version": 3
   },
   "file_extension": ".py",
   "mimetype": "text/x-python",
   "name": "python",
   "nbconvert_exporter": "python",
   "pygments_lexer": "ipython3",
   "version": "3.9.5"
  },
  "orig_nbformat": 4,
  "vscode": {
   "interpreter": {
    "hash": "42d72df409e68b50734411f25455b52d9db6d3075353b2b4d660fd100269ccc6"
   }
  }
 },
 "nbformat": 4,
 "nbformat_minor": 2
}
