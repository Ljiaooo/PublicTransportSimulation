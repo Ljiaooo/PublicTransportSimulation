{
 "cells": [
  {
   "cell_type": "code",
   "execution_count": 5,
   "metadata": {},
   "outputs": [],
   "source": [
    "import traci\n",
    "import pandas as pd\n",
    "from xml.dom import minidom"
   ]
  },
  {
   "cell_type": "code",
   "execution_count": 6,
   "metadata": {},
   "outputs": [],
   "source": [
    "#https://sumo.dlr.de/docs/Definition_of_Vehicles%2C_Vehicle_Types%2C_and_Routes.html#vehicle_types\n",
    "doc=minidom.Document()\n",
    "root=doc.createElement(\"routes\")\n",
    "doc.appendChild(root)\n",
    "vType=doc.createElement(\"vType\")\n",
    "vType.setAttribute(\"id\",\"bus\")\n",
    "vType.setAttribute(\"accel\",\"2.6\")\n",
    "vType.setAttribute(\"decel\",\"4.5\")\n",
    "vType.setAttribute(\"sigma\",\"0\")\n",
    "vType.setAttribute(\"length\",\"20\")\n",
    "vType.setAttribute(\"maxSpeed\",\"45\")\n",
    "vType.setAttribute(\"color\",\"1,1,0\")\n",
    "vType.setAttribute(\"bordingDuration\",\"1\")\n",
    "vType.setAttribute(\"personCapacity\",\"50\")\n",
    "\n",
    "root.appendChild(vType)\n",
    "vehicle=doc.createElement(\"vehicle\")\n",
    "vehicle.setAttribute(\"id\",\"visualization\")\n",
    "vehicle.setAttribute(\"type\",\"bus\")\n",
    "vehicle.setAttribute(\"depart\",\"0\")#10s\n",
    "vehicle.setAttribute(\"departPos\",\"0.0\")\n",
    "root.appendChild(vehicle)\n",
    "\n",
    "route=doc.createElement(\"route\")\n",
    "edges=list(pd.read_csv(\"csv_files/route263.csv\")[\"route263\"])\n",
    "edges_string=\" \".join(edges)\n",
    "route.setAttribute(\"edges\",edges_string)\n",
    "vehicle.appendChild(route)\n",
    "\n",
    "fp=open(\"xml_files/visual263.rou.xml\",\"w\")\n",
    "doc.writexml(fp,indent='\\t',addindent='\\t',newl='\\n',encoding='utf-8')\n",
    "fp.close()"
   ]
  }
 ],
 "metadata": {
  "kernelspec": {
   "display_name": "Python 3.9.5 64-bit",
   "language": "python",
   "name": "python3"
  },
  "language_info": {
   "codemirror_mode": {
    "name": "ipython",
    "version": 3
   },
   "file_extension": ".py",
   "mimetype": "text/x-python",
   "name": "python",
   "nbconvert_exporter": "python",
   "pygments_lexer": "ipython3",
   "version": "3.9.5"
  },
  "orig_nbformat": 4,
  "vscode": {
   "interpreter": {
    "hash": "42d72df409e68b50734411f25455b52d9db6d3075353b2b4d660fd100269ccc6"
   }
  }
 },
 "nbformat": 4,
 "nbformat_minor": 2
}
