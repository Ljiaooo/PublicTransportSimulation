{
 "cells": [
  {
   "cell_type": "code",
   "execution_count": 1,
   "metadata": {},
   "outputs": [
    {
     "data": {
      "text/plain": [
       "(20, 'SUMO 1.13.0')"
      ]
     },
     "execution_count": 1,
     "metadata": {},
     "output_type": "execute_result"
    }
   ],
   "source": [
    "from xml.dom import minidom\n",
    "import traci\n",
    "import pandas as pd\n",
    "\n",
    "sumoBinary=\"sumo\"\n",
    "sumoConfig=[sumoBinary,'-c',\"xml_files/guiyang.sumocfg\"]\n",
    "traci.start(sumoConfig)\n"
   ]
  },
  {
   "cell_type": "code",
   "execution_count": 2,
   "metadata": {},
   "outputs": [],
   "source": [
    "doc47=minidom.parse(\"xml_files/stop_47.add.xml\")\n",
    "doc48=minidom.parse(\"xml_files/stop_48.add.xml\")\n",
    "doc263=minidom.parse(\"xml_files/stop_263.add.xml\")\n",
    "\n",
    "stops_47=doc47.getElementsByTagName(\"busStop\")\n",
    "stops_48=doc48.getElementsByTagName(\"busStop\")\n",
    "stops_263=doc263.getElementsByTagName(\"busStop\")\n",
    "\n",
    "stops_line47=[]\n",
    "stops47_id=[]\n",
    "for i in range(len(stops_47)):\n",
    "    lane=stops_47[i].getAttribute(\"lane\")\n",
    "    stops47_id.append(stops_47[i].getAttribute(\"id\"))\n",
    "    stops_line47.append(lane[:-2])\n",
    "\n",
    "stops_line48=[]\n",
    "stops48_id=[]\n",
    "for i in range(len(stops_48)):\n",
    "    lane=stops_48[i].getAttribute(\"lane\")\n",
    "    stops48_id.append(stops_48[i].getAttribute(\"id\"))\n",
    "    stops_line48.append(lane[:-2])\n",
    "\n",
    "stops_line263=[]\n",
    "stops263_id=[]\n",
    "for i in range(len(stops_263)):\n",
    "    lane=stops_263[i].getAttribute(\"lane\")\n",
    "    stops263_id.append(stops_263[i].getAttribute(\"id\"))\n",
    "    stops_line263.append(lane[:-2])\n",
    "\n",
    "route47=[]\n",
    "route48=[]\n",
    "route263=[]\n",
    "\n",
    "for i in range(len(stops_line47)-1):\n",
    "    edges=list(traci.simulation.findRoute(stops_line47[i],stops_line47[i+1]).edges)\n",
    "    if i==len(stops_line47)-2:\n",
    "        route47+=edges\n",
    "    else:\n",
    "        route47=route47+edges[:-1]\n",
    "\n",
    "for i in range(len(stops_line48)-1):\n",
    "    edges=list(traci.simulation.findRoute(stops_line48[i],stops_line48[i+1]).edges)\n",
    "    if i==len(stops_line48)-2:\n",
    "        route48+=edges\n",
    "    else:\n",
    "        route48=route48+edges[:-1]\n",
    "\n",
    "for i in range(len(stops_line263)-1):\n",
    "    edges=list(traci.simulation.findRoute(stops_line263[i],stops_line263[i+1]).edges)\n",
    "    if i==len(stops_line263)-2:\n",
    "        route263+=edges\n",
    "    else:\n",
    "        route263=route263+edges[:-1]\n",
    "\n",
    "r47=pd.DataFrame({\"route47\":route47})\n",
    "r48=pd.DataFrame({\"route48\":route48})\n",
    "r263=pd.DataFrame({\"route263\":route263})\n",
    "r47.to_csv(\"csv_files/route47.csv\",encoding=\"utf-8\",index=False)\n",
    "r48.to_csv(\"csv_files/route48.csv\",encoding=\"utf-8\",index=False)\n",
    "r263.to_csv(\"csv_files/route263.csv\",encoding=\"utf-8\",index=False)\n",
    "\n",
    "id47=pd.DataFrame({\"id47\":stops47_id})\n",
    "id48=pd.DataFrame({\"id48\":stops48_id})\n",
    "id263=pd.DataFrame({\"id47\":stops263_id})\n",
    "id47.to_csv(\"csv_files/stopsid_47.csv\",encoding=\"utf-8\",index=False)\n",
    "id48.to_csv(\"csv_files/stopsid_48.csv\",encoding=\"utf-8\",index=False)\n",
    "id263.to_csv(\"csv_files/stopsid_263.csv\",encoding=\"utf-8\",index=False)\n",
    "\n",
    "#write to txt for selection\n",
    "with open(\"txt_files/route47.txt\", \"w\") as f:\n",
    "    for edge in route47:\n",
    "        f.write(\"lane:\"+edge+\"_0\\n\")\n",
    "\n",
    "with open(\"txt_files/route48.txt\", \"w\") as f:\n",
    "    for edge in route48:\n",
    "        f.write(\"lane:\"+edge+\"_0\\n\")\n",
    "\n",
    "with open(\"txt_files/route263.txt\", \"w\") as f:\n",
    "    for edge in route263:\n",
    "        f.write(\"lane:\"+edge+\"_0\\n\")\n",
    "traci.close()"
   ]
  },
  {
   "cell_type": "code",
   "execution_count": null,
   "metadata": {},
   "outputs": [],
   "source": []
  }
 ],
 "metadata": {
  "kernelspec": {
   "display_name": "Python 3.8.13 ('trans')",
   "language": "python",
   "name": "python3"
  },
  "language_info": {
   "codemirror_mode": {
    "name": "ipython",
    "version": 3
   },
   "file_extension": ".py",
   "mimetype": "text/x-python",
   "name": "python",
   "nbconvert_exporter": "python",
   "pygments_lexer": "ipython3",
   "version": "3.8.13"
  },
  "orig_nbformat": 4,
  "vscode": {
   "interpreter": {
    "hash": "885d3dbcdc9a40eacddc362b4b4dd1c0388ba865deb13b0b94b18a18e2c0a917"
   }
  }
 },
 "nbformat": 4,
 "nbformat_minor": 2
}
